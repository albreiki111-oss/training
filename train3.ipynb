{
  "nbformat": 4,
  "nbformat_minor": 0,
  "metadata": {
    "colab": {
      "provenance": [],
      "authorship_tag": "ABX9TyNpQuUrPlgtoCx6WwqHhv2p",
      "include_colab_link": true
    },
    "kernelspec": {
      "name": "python3",
      "display_name": "Python 3"
    },
    "language_info": {
      "name": "python"
    }
  },
  "cells": [
    {
      "cell_type": "markdown",
      "metadata": {
        "id": "view-in-github",
        "colab_type": "text"
      },
      "source": [
        "<a href=\"https://colab.research.google.com/github/albreiki111-oss/training/blob/main/train3.ipynb\" target=\"_parent\"><img src=\"https://colab.research.google.com/assets/colab-badge.svg\" alt=\"Open In Colab\"/></a>"
      ]
    },
    {
      "cell_type": "markdown",
      "source": [
        "**Install required Library**"
      ],
      "metadata": {
        "id": "0Ly_LC4n_Xzo"
      }
    },
    {
      "cell_type": "code",
      "execution_count": 1,
      "metadata": {
        "colab": {
          "base_uri": "https://localhost:8080/"
        },
        "id": "wliLxhZt9Iy5",
        "outputId": "6994a575-3735-40f2-a22e-11d2f4aae020"
      },
      "outputs": [
        {
          "output_type": "stream",
          "name": "stdout",
          "text": [
            "Requirement already satisfied: nltk in /usr/local/lib/python3.12/dist-packages (3.9.1)\n",
            "Collecting rake-nltk\n",
            "  Downloading rake_nltk-1.0.6-py3-none-any.whl.metadata (6.4 kB)\n",
            "Requirement already satisfied: click in /usr/local/lib/python3.12/dist-packages (from nltk) (8.2.1)\n",
            "Requirement already satisfied: joblib in /usr/local/lib/python3.12/dist-packages (from nltk) (1.5.2)\n",
            "Requirement already satisfied: regex>=2021.8.3 in /usr/local/lib/python3.12/dist-packages (from nltk) (2024.11.6)\n",
            "Requirement already satisfied: tqdm in /usr/local/lib/python3.12/dist-packages (from nltk) (4.67.1)\n",
            "Downloading rake_nltk-1.0.6-py3-none-any.whl (9.1 kB)\n",
            "Installing collected packages: rake-nltk\n",
            "Successfully installed rake-nltk-1.0.6\n"
          ]
        }
      ],
      "source": [
        "!pip install nltk rake-nltk\n"
      ]
    },
    {
      "cell_type": "markdown",
      "source": [
        "**Import and Define Summarizer Function**"
      ],
      "metadata": {
        "id": "dY1EuDYH_jWs"
      }
    },
    {
      "cell_type": "code",
      "source": [
        "import nltk\n",
        "from rake_nltk import Rake\n",
        "from nltk.tokenize.punkt import PunktSentenceTokenizer, PunktParameters\n",
        "import heapq\n",
        "\n",
        "# Download required NLTK models\n",
        "nltk.download('punkt')\n",
        "nltk.download('stopwords')\n",
        "\n",
        "\n",
        "def keyword_based_summary(text, num_sentences=3):\n",
        "    # Load the Punkt tokenizer\n",
        "    punkt_param = PunktParameters()\n",
        "    sentence_tokenizer = PunktSentenceTokenizer(punkt_param) # Removed lang='english'\n",
        "\n",
        "    sentences = sentence_tokenizer.tokenize(text)\n",
        "\n",
        "    # Initialize RAKE for keyword extraction and extract keywords from pre-tokenized sentences\n",
        "    rake = Rake()\n",
        "    rake.extract_keywords_from_sentences(sentences)\n",
        "    keywords = rake.get_ranked_phrases()[:20]  # Top 20 keywords/phrases\n",
        "\n",
        "    # Score sentences based on keyword overlap\n",
        "    sentence_scores = {}\n",
        "    for sentence in sentences:\n",
        "        score = sum(1 for kw in keywords if kw.lower() in sentence.lower())\n",
        "        if score > 0:\n",
        "            sentence_scores[sentence] = score\n",
        "\n",
        "    # Select top N sentences\n",
        "    summary_sentences = heapq.nlargest(num_sentences, sentence_scores, key=sentence_scores.get)\n",
        "    summary = ' '.join(summary_sentences)\n",
        "    return summary"
      ],
      "metadata": {
        "colab": {
          "base_uri": "https://localhost:8080/"
        },
        "id": "Q8UipP_X9n1m",
        "outputId": "6732e158-113a-4a79-f36b-b82f750843c3"
      },
      "execution_count": 10,
      "outputs": [
        {
          "output_type": "stream",
          "name": "stderr",
          "text": [
            "[nltk_data] Downloading package punkt to /root/nltk_data...\n",
            "[nltk_data]   Package punkt is already up-to-date!\n",
            "[nltk_data] Downloading package stopwords to /root/nltk_data...\n",
            "[nltk_data]   Package stopwords is already up-to-date!\n"
          ]
        }
      ]
    },
    {
      "cell_type": "markdown",
      "source": [
        "**Add Text and Summarize**"
      ],
      "metadata": {
        "id": "ZUkLMrrh_rmB"
      }
    },
    {
      "cell_type": "code",
      "source": [
        "text = \"\"\"\n",
        "Several factors contribute to a student passing their exams:\n",
        "Study Habits: Effective study techniques, such as active recall, spaced repetition, and summarizing information,\n",
        "help students retain knowledge better.\n",
        "Time Management: Creating a study schedule and prioritizing tasks can help students cover all necessary material without cramming.\n",
        "Understanding the Material: Students who grasp concepts rather than just memorizing facts are more likely to succeed.\n",
        "Engaging with the material through discussions, teaching others, or applying concepts in practical situations can enhance\n",
        "understanding.\n",
        "\"\"\"\n",
        "\n",
        "summary = keyword_based_summary(text, num_sentences=2)\n",
        "print(\"Summary:\\n\", summary)"
      ],
      "metadata": {
        "colab": {
          "base_uri": "https://localhost:8080/"
        },
        "id": "PoddTwul98EI",
        "outputId": "0170e8f3-b1aa-4ca8-9375-577bd32ca731"
      },
      "execution_count": 11,
      "outputs": [
        {
          "output_type": "stream",
          "name": "stdout",
          "text": [
            "Summary:\n",
            " \n",
            "Several factors contribute to a student passing their exams:\n",
            "Study Habits: Effective study techniques, such as active recall, spaced repetition, and summarizing information,\n",
            "help students retain knowledge better. Time Management: Creating a study schedule and prioritizing tasks can help students cover all necessary material without cramming.\n"
          ]
        }
      ]
    }
  ]
}